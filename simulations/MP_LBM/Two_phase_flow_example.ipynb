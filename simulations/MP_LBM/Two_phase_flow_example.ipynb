{
 "cells": [
  {
   "cell_type": "code",
   "execution_count": 1,
   "id": "9876473f",
   "metadata": {},
   "outputs": [],
   "source": [
    "import os\n",
    "from subprocess import run\n",
    "import pandas as pd\n",
    "import matplotlib.pyplot as plt\n",
    "import numpy as np\n",
    "\n",
    "# viz libraries\n",
    "import vedo as vd\n",
    "import pyvista as pv\n",
    "from scipy.ndimage import distance_transform_edt \n",
    "\n",
    "#from surfrac import SurFrac\n",
    "from pysimfrac import *\n",
    "from MP_LBM_utils import write_MPLBM, check_lbm_install, read_permeability"
   ]
  },
  {
   "cell_type": "markdown",
   "id": "f904499e",
   "metadata": {},
   "source": [
    "# 1. Create a fracture surface"
   ]
  },
  {
   "cell_type": "code",
   "execution_count": 2,
   "id": "9c4fc75b",
   "metadata": {},
   "outputs": [
    {
     "name": "stdout",
     "output_type": "stream",
     "text": [
      "--> Checking spectral Method Parameters: Starting\n",
      "--> Checking spectral Method Parameters: Complete\n",
      "--> Running Fracture surface method 'spectral': Starting\n",
      "--> Checking spectral Method Parameters: Starting\n",
      "--> Checking spectral Method Parameters: Complete\n",
      "\n",
      "\n",
      "--> Generation Method: spectral\n",
      " * Parameter Name: H\n",
      " * Value: 0.7\n",
      " * Description: Hurst exponent. Determines fractal dimension. Range is (0, 1)\n",
      "\n",
      "\n",
      " * Parameter Name: roughness\n",
      " * Value: 4\n",
      " * Description: Root-mean-squared value of heights [m], Range is (0, infty)\n",
      "\n",
      "\n",
      " * Parameter Name: mean-aperture\n",
      " * Value: 1\n",
      " * Description: Mean Fracture Aperture\n",
      "\n",
      "\n",
      " * Parameter Name: mismatch\n",
      " * Value: 0.25\n",
      " * Description: Mismatch length scale (wavelength) as a fraction of fracture size [0 < Mismatch < 1]\n",
      "\n",
      "\n",
      " * Parameter Name: N\n",
      " * Value: 128\n",
      " * Description: Discretization of fracture self.lx/self.h\n",
      "\n",
      "\n",
      " * Parameter Name: aniso\n",
      " * Value: 0.0\n",
      " * Description: Anisotropy Ratio [0 < Aniso < 1]. Setting to 0 is isotropic.\n",
      "\n",
      "\n",
      " * Parameter Name: seed\n",
      " * Value: 1\n",
      " * Description: Seed for the random number generator. Set to 0 to seed off clock.\n",
      "\n",
      "\n",
      " * Parameter Name: lambda_0\n",
      " * Value: 0.6\n",
      " * Description: (optional) 'roll-off' length scale as a fraction of fracture size [0 < lambda_0 < 1 (default)]\n",
      "\n",
      "\n",
      " * Parameter Name: model\n",
      " * Value: smooth\n",
      " * Description: (optional) Power spectral density model: 'linear' (default), 'bilinear', 'smooth'\n",
      "\n",
      "\n",
      "--> Power spectral density model: smooth\n",
      "--> Running Fracture surface method 'spectral': Complete\n",
      "--> Setting mean aperture value to 1\n",
      "--> Projecting surfaces to 2D aperture field\n",
      "--> Complete\n",
      "--> Complete\n",
      "--> Time required: 0.01 seconds\n",
      "\n",
      "--> Setting mean aperture value to 15\n",
      "--> Projecting surfaces to 2D aperture field\n",
      "--> Complete\n",
      "--> Complete\n"
     ]
    }
   ],
   "source": [
    "#myfrac = SimFrac( h = 1.0, lx = 512, ly = 128, method = \"spectral\")\n",
    "myfrac = SimFrac( h = 1.0, lx = 128, ly = 64, method = \"spectral\")\n",
    "\n",
    "myfrac.params['aniso']['value'] = 0.0\n",
    "myfrac.params['H']['value'] = 0.7\n",
    "myfrac.params['roughness']['value'] = 4\n",
    "myfrac.params['mismatch']['value'] = 0.25\n",
    "myfrac.params['lambda_0']['value'] = 0.6\n",
    "myfrac.params['model']['value'] = 'smooth'\n",
    "myfrac.params['seed']['value'] = 1\n",
    "myfrac.create_fracture()\n",
    "myfrac.set_mean_aperture(15)    "
   ]
  },
  {
   "cell_type": "markdown",
   "id": "6a386642",
   "metadata": {},
   "source": [
    "# 2. Voxelize"
   ]
  },
  {
   "cell_type": "code",
   "execution_count": 3,
   "id": "e10a4dff",
   "metadata": {},
   "outputs": [
    {
     "name": "stdout",
     "output_type": "stream",
     "text": [
      "--> Checking aperture values\n",
      "--> Complete\n",
      "--> Setting minimum surface value of bottom to 0\n",
      "--> Complete\n"
     ]
    }
   ],
   "source": [
    "myfrac.voxelize(solid_voxels=5) \n",
    "frac_3D = myfrac.frac_3D.transpose(2,0,1)"
   ]
  },
  {
   "cell_type": "code",
   "execution_count": 18,
   "id": "64fd2eb8-6675-4dc7-a7a6-f4159bec1764",
   "metadata": {},
   "outputs": [
    {
     "data": {
      "text/plain": [
       "(49, 64, 128)"
      ]
     },
     "execution_count": 18,
     "metadata": {},
     "output_type": "execute_result"
    }
   ],
   "source": [
    "frac_3D.shape"
   ]
  },
  {
   "cell_type": "markdown",
   "id": "930efa3c",
   "metadata": {},
   "source": [
    "# 3. Visualize the 3D fracture"
   ]
  },
  {
   "cell_type": "code",
   "execution_count": 4,
   "id": "c0b06bcc",
   "metadata": {},
   "outputs": [],
   "source": [
    "vd.settings.default_backend= 'vtk'\n",
    "vdp = vd.Plotter(axes=9, bg='w', bg2='lightblue', size=(1200,900), offscreen=False)\n",
    "\n",
    "frac_3D = myfrac.frac_3D.transpose(2,0,1)\n",
    "edist = distance_transform_edt(frac_3D==0)\n",
    "lego = vd.Volume(edist).legosurface(vmin=1, vmax=5).cmap('turbo',vmin=-1, vmax=5).lighting(ambient=2)\n",
    "lego += vd.Volume((frac_3D==0)*1.0).legosurface(vmin=1, vmax=2).c('lightgray').opacity(0.05).lighting('shiny')\n",
    "\n",
    "cam = dict(\n",
    "            position=(452.134, 486.466, -150.875),\n",
    "            focal_point=(-2.81867, 55.7670, 224.764),\n",
    "            viewup=(0.782363, -0.468078, 0.410867),\n",
    "            distance=730.471,\n",
    "            clipping_range=(343.033, 1235.15),\n",
    "            )\n",
    "\n",
    "vdp.show( lego, camera=cam, axes=1).close()"
   ]
  },
  {
   "cell_type": "markdown",
   "id": "3b1d0ddc",
   "metadata": {},
   "source": [
    "# 4. Install LBM library"
   ]
  },
  {
   "cell_type": "code",
   "execution_count": 20,
   "id": "7c6f953e-cfb6-474d-98de-19b8049ddd79",
   "metadata": {},
   "outputs": [],
   "source": [
    "# !git clone git@github.com:je-santos/MPLBM-UT.git\n",
    "# os.chdir('MPLBM-UT')\n",
    "# os.system('bash Install.sh')\n",
    "# os.chdir('..')"
   ]
  },
  {
   "cell_type": "markdown",
   "id": "ff352cfb",
   "metadata": {},
   "source": [
    "# 5. Check the LBM installation"
   ]
  },
  {
   "cell_type": "code",
   "execution_count": 19,
   "id": "f06ac226-73c5-4d9b-8665-13897e7c3f99",
   "metadata": {},
   "outputs": [
    {
     "name": "stdout",
     "output_type": "stream",
     "text": [
      "\n",
      "LBM for two-phase mode installation was found\n",
      "\n"
     ]
    }
   ],
   "source": [
    "check_lbm_install(sim_mode='two-phase')"
   ]
  },
  {
   "cell_type": "markdown",
   "id": "a2c8d37e",
   "metadata": {},
   "source": [
    "# 6. Create the single-phase LBM input deck"
   ]
  },
  {
   "cell_type": "code",
   "execution_count": 7,
   "id": "e77dd738",
   "metadata": {},
   "outputs": [
    {
     "name": "stdout",
     "output_type": "stream",
     "text": [
      "write LBM end\n"
     ]
    }
   ],
   "source": [
    "sim_max_iter=100000\n",
    "lbm = write_MPLBM(\n",
    "                  frac_obj = myfrac, \n",
    "                  buffer_layers = 2,\n",
    "                  cpus = 4,\n",
    "                  num_hrs = 4,\n",
    "                  allocation = None,\n",
    "                  sim_mode='two-phase'\n",
    "                  )"
   ]
  },
  {
   "cell_type": "markdown",
   "id": "365920f8",
   "metadata": {},
   "source": [
    "# 7. Run the simulation"
   ]
  },
  {
   "cell_type": "code",
   "execution_count": 9,
   "id": "8e8ab200",
   "metadata": {},
   "outputs": [
    {
     "data": {
      "text/plain": [
       "0"
      ]
     },
     "execution_count": 9,
     "metadata": {},
     "output_type": "execute_result"
    }
   ],
   "source": [
    "os.chdir(f'{lbm.folder_path}')\n",
    "os.system('bash run_frac.sh')"
   ]
  },
  {
   "cell_type": "markdown",
   "id": "82d0d3d3",
   "metadata": {},
   "source": [
    "# 8. Visualize the f1 density"
   ]
  },
  {
   "cell_type": "code",
   "execution_count": 17,
   "id": "c32f1e7c",
   "metadata": {},
   "outputs": [],
   "source": [
    "\n",
    "# Load data from .dat file\n",
    "data = np.loadtxt('output/rho_f1_000.dat')\n",
    "data_reshaped = data.reshape(frac_3D.shape[0],frac_3D.shape[1],frac_3D.shape[2])\n",
    "\n",
    "# Visualize the data\n",
    "vel_thresholds = np.linspace(np.min(data_reshaped), np.max(data_reshaped), 40)\n",
    "vel = vd.Volume(data_reshaped).isosurface(value=vel_thresholds)\n",
    "\n",
    "vp = vd.Plotter(axes=9, bg='w', bg2='lightblue', size=(1200,900), offscreen=False)\n",
    "vp += vel.cmap('turbo').lighting('glossy').opacity(0.6).add_scalarbar('f1 density', font_size=16).lighting(ambient=.25)\n",
    "\n",
    "\n",
    "# Camera settings (adjust as needed)\n",
    "cam = dict(\n",
    "    position=(452.134, 486.466, -150.875),\n",
    "    focal_point=(-2.81867, 55.7670, 224.764),\n",
    "    viewup=(0.782363, -0.468078, 0.410867),\n",
    "    distance=730.471,\n",
    "    clipping_range=(343.033, 1235.15),\n",
    ")\n",
    "\n",
    "vd.show(camera=cam, axes=1).close()"
   ]
  },
  {
   "cell_type": "code",
   "execution_count": null,
   "id": "92426577-0c54-45ce-b80d-44321cd16c5a",
   "metadata": {},
   "outputs": [],
   "source": []
  }
 ],
 "metadata": {
  "kernelspec": {
   "display_name": "dfnWorks",
   "language": "python",
   "name": "dfnworks"
  },
  "language_info": {
   "codemirror_mode": {
    "name": "ipython",
    "version": 3
   },
   "file_extension": ".py",
   "mimetype": "text/x-python",
   "name": "python",
   "nbconvert_exporter": "python",
   "pygments_lexer": "ipython3",
   "version": "3.9.17"
  }
 },
 "nbformat": 4,
 "nbformat_minor": 5
}
